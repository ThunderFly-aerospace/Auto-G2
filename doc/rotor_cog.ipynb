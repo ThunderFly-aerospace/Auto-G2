{
 "cells": [
  {
   "cell_type": "code",
   "execution_count": 2,
   "metadata": {},
   "outputs": [],
   "source": [
    "import numpy as np\n",
    "import math"
   ]
  },
  {
   "cell_type": "code",
   "execution_count": 27,
   "metadata": {},
   "outputs": [
    {
     "name": "stdout",
     "output_type": "stream",
     "text": [
      "Teziste rotoru bez vyztuhy [  18.839804    0.537746  200.827209]\n",
      "Hmotnost rotoru: 29.599411621250002 g\n",
      "Teziste vyztuhy 1: [   3.4    0.3  200. ]\n",
      "Hmotnost vyztuhy 1: 24.253095285713204 g\n",
      "Teziste vyztuhy 2: [   7.875    0.     200.   ]\n",
      "Hmotnost vyztuhy 2: 0.0 g\n",
      "Celkova hmotnost:  53.85250690696321\n"
     ]
    }
   ],
   "source": [
    "rotor_length = 400 - 15\n",
    "rotor_depth = 45.5\n",
    "\n",
    "rotor_volume =  23679.529297 / 1000000000\n",
    "rotor_cog = np.array([18.839804, 0.537746, 200.827209])\n",
    "\n",
    "rotor_density = 1250\n",
    "rotor_mass = rotor_density * rotor_volume\n",
    "\n",
    "rod_diameter = 2\n",
    "rod_length = 400\n",
    "rod_volume = rod_length * math.pi*(rod_diameter/2)**2 / 1000000000\n",
    "rod_density = 8500\n",
    "rod_density = 19300\n",
    "rod_cog = np.array([3.4, 0.3, rod_length/2])\n",
    "rod_mass = rod_density * rod_volume\n",
    "\n",
    "rod2_diameter = 0\n",
    "rod2_length = 400\n",
    "rod2_volume = rod2_length * math.pi*(rod2_diameter/2)**2 / 1000000000\n",
    "rod2_density = 8500\n",
    "rod2_cog = np.array([rotor_depth/4 - 3.5, 0, rod2_length/2])\n",
    "rod2_mass = rod2_density * rod2_volume\n",
    "\n",
    "rod3_diameter = 1\n",
    "rod3_length = 400\n",
    "rod3_volume = rod3_length * math.pi*(rod3_diameter/2)**2 / 1000000000\n",
    "rod3_density = 2270\n",
    "rod3_cog = np.array([rotor_depth/4 + 3.5, 0, rod3_length/2])\n",
    "rod3_mass = rod3_density * rod3_volume\n",
    "\n",
    "\n",
    "print(\"Teziste rotoru bez vyztuhy\", rotor_cog)\n",
    "print(\"Hmotnost rotoru:\", rotor_mass*1000, \"g\")\n",
    "print(\"Teziste vyztuhy 1:\", rod_cog)\n",
    "print(\"Hmotnost vyztuhy 1:\", rod_mass*1000, \"g\")\n",
    "print(\"Teziste vyztuhy 2:\", rod2_cog)\n",
    "print(\"Hmotnost vyztuhy 2:\", rod2_mass*1000, \"g\")\n",
    "\n",
    "print(\"Celkova hmotnost: \", (rotor_mass + rod_mass + rod2_mass) *1000)"
   ]
  },
  {
   "cell_type": "code",
   "execution_count": 28,
   "metadata": {},
   "outputs": [],
   "source": [
    "new_cog = ((rod3_mass * rod3_cog)+(rod2_mass * rod2_cog)+(rod_mass * rod_cog)+(rotor_mass * rotor_cog))/(rod_mass + rotor_mass + rod2_mass + rod3_mass)"
   ]
  },
  {
   "cell_type": "code",
   "execution_count": 29,
   "metadata": {},
   "outputs": [
    {
     "name": "stdout",
     "output_type": "stream",
     "text": [
      "Idealni X pozice:  11.375\n",
      "Celkove teziste: [  11.9253713     0.42504569  200.4487237 ]\n"
     ]
    }
   ],
   "source": [
    "print(\"Idealni X pozice: \", rotor_depth/4)\n",
    "print(\"Celkove teziste:\", new_cog)"
   ]
  },
  {
   "cell_type": "code",
   "execution_count": 2,
   "metadata": {},
   "outputs": [],
   "source": [
    "import json\n",
    "import math\n",
    "import numpy as np\n",
    "np.set_printoptions(suppress=True)"
   ]
  },
  {
   "cell_type": "code",
   "execution_count": 14,
   "metadata": {},
   "outputs": [
    {
     "name": "stdout",
     "output_type": "stream",
     "text": [
      "{'cog': {'X': 92.47254015041118, 'Y': 100.58382102188283, 'Z': 201.5605660740305}, 'file': '111_1009.gcode', 'slicer_translation': {'X': 78.0, 'Y': 99.0, 'Z': 0.0}, 'stl_cog': {'X': 14.472540150411177, 'Y': 1.5838210218828266, 'Z': 201.5605660740305}}\n"
     ]
    }
   ],
   "source": [
    "slicing = json.load(open('../CAD/src/gcode/111_1009.json'))\n",
    "print(slicing)"
   ]
  },
  {
   "cell_type": "code",
   "execution_count": 83,
   "metadata": {},
   "outputs": [
    {
     "name": "stdout",
     "output_type": "stream",
     "text": [
      "{'X': 11.286949322568972, 'Y': -0.7525257605933433, 'Z': 200.14500111760856} 12.5\n"
     ]
    }
   ],
   "source": [
    "slicing = {'cog': {'gcode': {'X': 88.62054190023312, 'Y': 98.05033551818555, 'Z': 203.39622894600623}, 'model': {'X': 11.620541900233121, 'Y': -0.9496644818144517, 'Z': 203.39622894600623}, 'slicer_translation': {'X': 77.0, 'Y': 99.0, 'Z': 0.0}, 'model_method': None}, 'material': {'extrudate': 4510.432899999963, 'volume': 7.0685834705770345, 'mass': 0.0}}\n",
    "slicing = {'cog': {'gcode': {'X': 87.28694932256897, 'Y': 98.24747423940666, 'Z': 200.14500111760856}, 'model': {'X': 11.286949322568972, 'Y': -0.7525257605933433, 'Z': 200.14500111760856}, 'slicer_translation': {'X': 76.0, 'Y': 99.0, 'Z': 0.0}, 'model_method': None}, 'material': {'extrudate': 5209.028030000088, 'volume': 7.0685834705770345, 'mass': 0.0}}\n",
    "\n",
    "\n",
    "depth = 50\n",
    "print(slicing['cog']['model'], depth/4)"
   ]
  },
  {
   "cell_type": "code",
   "execution_count": 84,
   "metadata": {},
   "outputs": [
    {
     "name": "stdout",
     "output_type": "stream",
     "text": [
      "50116.72283613674\n",
      "[ 11.28694932  -0.75252576 200.14500112] 87.65043503515523\n",
      "[  8.375        0.         200.14500112] 9.64\n",
      "[ 14.375        0.         200.14500112] 1.9600000000000002\n",
      "[ 11.0651003   -0.66457351 200.14500112] 97.29043503515523\n",
      "[ -1.4348997   -0.66457351 200.14500112]\n"
     ]
    }
   ],
   "source": [
    "slicing['material']['mass'] = 1.24 * slicing['material']['volume']*10\n",
    "\n",
    "print(math.pi * 1.75**2 * slicing['material']['extrudate'])\n",
    "\n",
    "x1 = np.array([slicing['cog']['model']['X'], slicing['cog']['model']['Y'], slicing['cog']['model']['Z']])\n",
    "m1 = slicing['material']['mass']\n",
    "\n",
    "# Mosazna\n",
    "x2 = np.array([45.5/4 - 3, 0, slicing['cog']['model']['Z']])\n",
    "m2 = 0.4 * 24.1\n",
    "\n",
    "# Uhlikoav\n",
    "x3 = np.array([45.5/4 + 3, 0, slicing['cog']['model']['Z']])\n",
    "m3 = 0.4 * 4.9\n",
    "\n",
    "cog = (x1*m1) + (x2*m2) + (x3*m3)\n",
    "cog /= (m1+m2+m3)\n",
    "\n",
    "target = np.array([depth/4, 0, 0])\n",
    "\n",
    "print(x1, m1)\n",
    "print(x2, m2)\n",
    "print(x3, m3)\n",
    "\n",
    "print(cog, m1+m2)\n",
    "\n",
    "print(cog-target)"
   ]
  },
  {
   "cell_type": "code",
   "execution_count": null,
   "metadata": {},
   "outputs": [],
   "source": []
  },
  {
   "cell_type": "code",
   "execution_count": null,
   "metadata": {},
   "outputs": [],
   "source": []
  }
 ],
 "metadata": {
  "kernelspec": {
   "display_name": "Python 3",
   "language": "python",
   "name": "python3"
  },
  "language_info": {
   "codemirror_mode": {
    "name": "ipython",
    "version": 3
   },
   "file_extension": ".py",
   "mimetype": "text/x-python",
   "name": "python",
   "nbconvert_exporter": "python",
   "pygments_lexer": "ipython3",
   "version": "3.6.8"
  }
 },
 "nbformat": 4,
 "nbformat_minor": 2
}
