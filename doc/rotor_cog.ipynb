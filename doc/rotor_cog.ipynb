{
 "cells": [
  {
   "cell_type": "code",
   "execution_count": 26,
   "metadata": {},
   "outputs": [],
   "source": [
    "import numpy as np\n",
    "import math"
   ]
  },
  {
   "cell_type": "code",
   "execution_count": 27,
   "metadata": {},
   "outputs": [
    {
     "name": "stdout",
     "output_type": "stream",
     "text": [
      "Teziste rotoru bez vyztuhy [  20.137222    0.63527   192.112274]\n",
      "Hmotnost rotoru: 43.37642578125 g\n",
      "Teziste vyztuhy 1: [   2.9     0.25  200.  ]\n",
      "Hmotnost vyztuhy 1: 24.253095285713204 g\n",
      "Teziste vyztuhy 2: [   6.375    0.     200.   ]\n",
      "Hmotnost vyztuhy 2: 10.681415022205297 g\n",
      "Celkova hmotnost:  78.31093608916851\n"
     ]
    }
   ],
   "source": [
    "rotor_length = 400 - 15\n",
    "rotor_depth = 45.5\n",
    "\n",
    "rotor_volume = 34701.140625 / 1000000000\n",
    "rotor_cog = np.array([20.137222, 0.635270, 192.112274])\n",
    "\n",
    "rotor_density = 1250\n",
    "rotor_mass = rotor_density * rotor_volume\n",
    "\n",
    "rod_diameter = 2\n",
    "rod_length = 400\n",
    "rod_volume = rod_length * math.pi*(rod_diameter/2)**2 / 1000000000\n",
    "rod_density = 8500\n",
    "rod_density = 19300\n",
    "rod_cog = np.array([2.9, 0.25, rod_length/2])\n",
    "rod_mass = rod_density * rod_volume\n",
    "\n",
    "rod2_diameter = 2\n",
    "rod2_length = 400\n",
    "rod2_volume = rod2_length * math.pi*(rod2_diameter/2)**2 / 1000000000\n",
    "rod2_density = 8500\n",
    "rod2_cog = np.array([rotor_depth/4 - 5, 0, rod2_length/2])\n",
    "rod2_mass = rod2_density * rod2_volume\n",
    "\n",
    "rod3_diameter = 1\n",
    "rod3_length = 400\n",
    "rod3_volume = rod3_length * math.pi*(rod3_diameter/2)**2 / 1000000000\n",
    "rod3_density = 2270\n",
    "rod3_cog = np.array([rotor_depth/4 + 3.5, 0, rod3_length/2])\n",
    "rod3_mass = rod3_density * rod3_volume\n",
    "\n",
    "\n",
    "print(\"Teziste rotoru bez vyztuhy\", rotor_cog)\n",
    "print(\"Hmotnost rotoru:\", rotor_mass*1000, \"g\")\n",
    "print(\"Teziste vyztuhy 1:\", rod_cog)\n",
    "print(\"Hmotnost vyztuhy 1:\", rod_mass*1000, \"g\")\n",
    "print(\"Teziste vyztuhy 2:\", rod2_cog)\n",
    "print(\"Hmotnost vyztuhy 2:\", rod2_mass*1000, \"g\")\n",
    "\n",
    "print(\"Celkova hmotnost: \", (rotor_mass + rod_mass + rod2_mass) *1000)"
   ]
  },
  {
   "cell_type": "code",
   "execution_count": 28,
   "metadata": {},
   "outputs": [],
   "source": [
    "new_cog = ((rod3_mass * rod3_cog)+(rod2_mass * rod2_cog)+(rod_mass * rod_cog)+(rotor_mass * rotor_cog))/(rod_mass + rotor_mass + rod2_mass + rod3_mass)"
   ]
  },
  {
   "cell_type": "code",
   "execution_count": 29,
   "metadata": {},
   "outputs": [
    {
     "name": "stdout",
     "output_type": "stream",
     "text": [
      "Idealni X pozice:  11.375\n",
      "Celkove teziste: [  12.93930564    0.4254275   195.67041626]\n"
     ]
    }
   ],
   "source": [
    "print(\"Idealni X pozice: \", rotor_depth/4)\n",
    "print(\"Celkove teziste:\", new_cog)"
   ]
  },
  {
   "cell_type": "code",
   "execution_count": null,
   "metadata": {},
   "outputs": [],
   "source": []
  }
 ],
 "metadata": {
  "kernelspec": {
   "display_name": "Python 3",
   "language": "python",
   "name": "python3"
  },
  "language_info": {
   "codemirror_mode": {
    "name": "ipython",
    "version": 3
   },
   "file_extension": ".py",
   "mimetype": "text/x-python",
   "name": "python",
   "nbconvert_exporter": "python",
   "pygments_lexer": "ipython3",
   "version": "3.6.7"
  }
 },
 "nbformat": 4,
 "nbformat_minor": 2
}
