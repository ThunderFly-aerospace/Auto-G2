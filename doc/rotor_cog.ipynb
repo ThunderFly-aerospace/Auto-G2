{
 "cells": [
  {
   "cell_type": "code",
   "execution_count": 2,
   "metadata": {},
   "outputs": [],
   "source": [
    "import numpy as np\n",
    "import math"
   ]
  },
  {
   "cell_type": "code",
   "execution_count": 27,
   "metadata": {},
   "outputs": [
    {
     "name": "stdout",
     "output_type": "stream",
     "text": [
      "Teziste rotoru bez vyztuhy [  18.839804    0.537746  200.827209]\n",
      "Hmotnost rotoru: 29.599411621250002 g\n",
      "Teziste vyztuhy 1: [   3.4    0.3  200. ]\n",
      "Hmotnost vyztuhy 1: 24.253095285713204 g\n",
      "Teziste vyztuhy 2: [   7.875    0.     200.   ]\n",
      "Hmotnost vyztuhy 2: 0.0 g\n",
      "Celkova hmotnost:  53.85250690696321\n"
     ]
    }
   ],
   "source": [
    "rotor_length = 400 - 15\n",
    "rotor_depth = 45.5\n",
    "\n",
    "rotor_volume =  23679.529297 / 1000000000\n",
    "rotor_cog = np.array([18.839804, 0.537746, 200.827209])\n",
    "\n",
    "rotor_density = 1250\n",
    "rotor_mass = rotor_density * rotor_volume\n",
    "\n",
    "rod_diameter = 2\n",
    "rod_length = 400\n",
    "rod_volume = rod_length * math.pi*(rod_diameter/2)**2 / 1000000000\n",
    "rod_density = 8500\n",
    "rod_density = 19300\n",
    "rod_cog = np.array([3.4, 0.3, rod_length/2])\n",
    "rod_mass = rod_density * rod_volume\n",
    "\n",
    "rod2_diameter = 0\n",
    "rod2_length = 400\n",
    "rod2_volume = rod2_length * math.pi*(rod2_diameter/2)**2 / 1000000000\n",
    "rod2_density = 8500\n",
    "rod2_cog = np.array([rotor_depth/4 - 3.5, 0, rod2_length/2])\n",
    "rod2_mass = rod2_density * rod2_volume\n",
    "\n",
    "rod3_diameter = 1\n",
    "rod3_length = 400\n",
    "rod3_volume = rod3_length * math.pi*(rod3_diameter/2)**2 / 1000000000\n",
    "rod3_density = 2270\n",
    "rod3_cog = np.array([rotor_depth/4 + 3.5, 0, rod3_length/2])\n",
    "rod3_mass = rod3_density * rod3_volume\n",
    "\n",
    "\n",
    "print(\"Teziste rotoru bez vyztuhy\", rotor_cog)\n",
    "print(\"Hmotnost rotoru:\", rotor_mass*1000, \"g\")\n",
    "print(\"Teziste vyztuhy 1:\", rod_cog)\n",
    "print(\"Hmotnost vyztuhy 1:\", rod_mass*1000, \"g\")\n",
    "print(\"Teziste vyztuhy 2:\", rod2_cog)\n",
    "print(\"Hmotnost vyztuhy 2:\", rod2_mass*1000, \"g\")\n",
    "\n",
    "print(\"Celkova hmotnost: \", (rotor_mass + rod_mass + rod2_mass) *1000)"
   ]
  },
  {
   "cell_type": "code",
   "execution_count": 28,
   "metadata": {},
   "outputs": [],
   "source": [
    "new_cog = ((rod3_mass * rod3_cog)+(rod2_mass * rod2_cog)+(rod_mass * rod_cog)+(rotor_mass * rotor_cog))/(rod_mass + rotor_mass + rod2_mass + rod3_mass)"
   ]
  },
  {
   "cell_type": "code",
   "execution_count": 29,
   "metadata": {},
   "outputs": [
    {
     "name": "stdout",
     "output_type": "stream",
     "text": [
      "Idealni X pozice:  11.375\n",
      "Celkove teziste: [  11.9253713     0.42504569  200.4487237 ]\n"
     ]
    }
   ],
   "source": [
    "print(\"Idealni X pozice: \", rotor_depth/4)\n",
    "print(\"Celkove teziste:\", new_cog)"
   ]
  },
  {
   "cell_type": "code",
   "execution_count": null,
   "metadata": {},
   "outputs": [],
   "source": []
  }
 ],
 "metadata": {
  "kernelspec": {
   "display_name": "Python 3",
   "language": "python",
   "name": "python3"
  },
  "language_info": {
   "codemirror_mode": {
    "name": "ipython",
    "version": 3
   },
   "file_extension": ".py",
   "mimetype": "text/x-python",
   "name": "python",
   "nbconvert_exporter": "python",
   "pygments_lexer": "ipython3",
   "version": "3.6.7"
  }
 },
 "nbformat": 4,
 "nbformat_minor": 2
}
