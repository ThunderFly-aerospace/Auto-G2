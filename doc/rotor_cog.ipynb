{
 "cells": [
  {
   "cell_type": "code",
   "execution_count": 32,
   "metadata": {},
   "outputs": [
    {
     "name": "stdout",
     "output_type": "stream",
     "text": [
      "Teziste rotoru bez vyztuhy [  19.889515    0.619527  194.066437]\n",
      "Hmotnost rotoru: 44.10740234375 g\n",
      "Teziste vyztuhy 1: [   3.1     0.27  192.5 ]\n",
      "Hmotnost vyztuhy 1: 23.34360421249896 g\n",
      "Teziste vyztuhy 2: [   5.     0.   192.5]\n",
      "Hmotnost vyztuhy 2: 0.0 g\n",
      "Celkova hmotnost:  67.45100655624897\n"
     ]
    }
   ],
   "source": [
    "import numpy as np\n",
    "import math \n",
    "\n",
    "rotor_length = 400 - 15\n",
    "rotor_depth = 45.5\n",
    "\n",
    "rotor_volume = 135498.742188 / 1000000000\n",
    "rotor_cog = np.array([19.924463, 0.625629,193.441681]) # rotor s celym infillem\n",
    "\n",
    "rotor_volume = 35285.921875 / 1000000000\n",
    "rotor_cog = np.array([19.889515, 0.619527, 194.066437])\n",
    "\n",
    "rotor_density = 1250\n",
    "rotor_mass = rotor_density * rotor_volume\n",
    "\n",
    "rod_diameter = 2\n",
    "rod_length = 400-15\n",
    "rod_volume = rod_length * math.pi*(rod_diameter/2)**2 / 1000000000\n",
    "rod_density = 8500\n",
    "rod_density = 19300\n",
    "rod_cog = np.array([rotor_depth/4-5, 0, rod_length/2])\n",
    "rod_cog = np.array([3.1, 0.27, rod_length/2])\n",
    "rod_mass = rod_density * rod_volume\n",
    "\n",
    "\n",
    "rod2_diameter = 0\n",
    "rod2_length = 400-15\n",
    "rod2_volume = rod2_length * math.pi*(rod2_diameter/2)**2 / 1000000000\n",
    "rod2_density = 8500\n",
    "rod2_cog = np.array([rotor_depth/4+5, 0, rod2_length/2])\n",
    "rod2_cog = np.array([5, 0, rod2_length/2])\n",
    "rod2_mass = rod2_density * rod2_volume\n",
    "\n",
    "print(\"Teziste rotoru bez vyztuhy\", rotor_cog)\n",
    "print(\"Hmotnost rotoru:\", rotor_mass*1000, \"g\")\n",
    "print(\"Teziste vyztuhy 1:\", rod_cog)\n",
    "print(\"Hmotnost vyztuhy 1:\", rod_mass*1000, \"g\")\n",
    "print(\"Teziste vyztuhy 2:\", rod2_cog)\n",
    "print(\"Hmotnost vyztuhy 2:\", rod2_mass*1000, \"g\")\n",
    "\n",
    "print(\"Celkova hmotnost: \", (rotor_mass + rod_mass + rod2_mass) *1000)"
   ]
  },
  {
   "cell_type": "code",
   "execution_count": 33,
   "metadata": {},
   "outputs": [],
   "source": [
    "new_cog = ((rod2_mass * rod2_cog)+(rod_mass * rod_cog)+(rotor_mass * rotor_cog))/(rod_mass + rotor_mass + rod2_mass)"
   ]
  },
  {
   "cell_type": "code",
   "execution_count": 34,
   "metadata": {},
   "outputs": [
    {
     "name": "stdout",
     "output_type": "stream",
     "text": [
      "Idealni X pozice:  11.375\n",
      "Celkove teziste: [  14.07895986    0.49856187  193.52432077]\n"
     ]
    }
   ],
   "source": [
    "print(\"Idealni X pozice: \", rotor_depth/4)\n",
    "print(\"Celkove teziste:\", new_cog)"
   ]
  },
  {
   "cell_type": "code",
   "execution_count": null,
   "metadata": {},
   "outputs": [],
   "source": []
  },
  {
   "cell_type": "code",
   "execution_count": null,
   "metadata": {},
   "outputs": [],
   "source": []
  }
 ],
 "metadata": {
  "kernelspec": {
   "display_name": "Python 3",
   "language": "python",
   "name": "python3"
  },
  "language_info": {
   "codemirror_mode": {
    "name": "ipython",
    "version": 3
   },
   "file_extension": ".py",
   "mimetype": "text/x-python",
   "name": "python",
   "nbconvert_exporter": "python",
   "pygments_lexer": "ipython3",
   "version": "3.6.7"
  }
 },
 "nbformat": 4,
 "nbformat_minor": 2
}
